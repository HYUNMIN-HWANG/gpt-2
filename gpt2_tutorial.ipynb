{
 "metadata": {
  "language_info": {
   "codemirror_mode": {
    "name": "ipython",
    "version": 3
   },
   "file_extension": ".py",
   "mimetype": "text/x-python",
   "name": "python",
   "nbconvert_exporter": "python",
   "pygments_lexer": "ipython3",
   "version": "3.8.5"
  },
  "orig_nbformat": 2,
  "kernelspec": {
   "name": "python385jvsc74a57bd0cfed29639e118e2330c8cca2e9f389b076390c6676518be5d289ddd682bc9f99",
   "display_name": "Python 3.8.5 64-bit ('base': conda)"
  }
 },
 "nbformat": 4,
 "nbformat_minor": 2,
 "cells": [
  {
   "cell_type": "code",
   "execution_count": 1,
   "metadata": {},
   "outputs": [
    {
     "output_type": "stream",
     "name": "stderr",
     "text": [
      "Cloning into 'transformers'...\n"
     ]
    }
   ],
   "source": [
    "!git clone https://github.com/huggingface/transformers"
   ]
  },
  {
   "cell_type": "code",
   "execution_count": 1,
   "metadata": {},
   "outputs": [
    {
     "output_type": "stream",
     "name": "stdout",
     "text": [
      "e:\\nmb\\gpt-2\\transformers\n",
      "Processing e:\\nmb\\gpt-2\\transformers\n",
      "  Installing build dependencies: started\n",
      "  Installing build dependencies: finished with status 'done'\n",
      "  Getting requirements to build wheel: started\n",
      "  Getting requirements to build wheel: finished with status 'done'\n",
      "    Preparing wheel metadata: started\n",
      "    Preparing wheel metadata: finished with status 'done'\n",
      "Requirement already satisfied: tqdm>=4.27 in c:\\users\\nammr\\anaconda3\\lib\\site-packages (from transformers==4.7.0.dev0) (4.49.0)\n",
      "Requirement already satisfied: sacremoses in c:\\users\\nammr\\anaconda3\\lib\\site-packages (from transformers==4.7.0.dev0) (0.0.45)\n",
      "Requirement already satisfied: requests in c:\\users\\nammr\\anaconda3\\lib\\site-packages (from transformers==4.7.0.dev0) (2.24.0)\n",
      "Requirement already satisfied: numpy>=1.17 in c:\\users\\nammr\\anaconda3\\lib\\site-packages (from transformers==4.7.0.dev0) (1.19.2)\n",
      "Requirement already satisfied: huggingface-hub==0.0.8 in c:\\users\\nammr\\anaconda3\\lib\\site-packages (from transformers==4.7.0.dev0) (0.0.8)\n",
      "Requirement already satisfied: packaging in c:\\users\\nammr\\anaconda3\\lib\\site-packages (from transformers==4.7.0.dev0) (20.4)\n",
      "Requirement already satisfied: regex!=2019.12.17 in c:\\users\\nammr\\anaconda3\\lib\\site-packages (from transformers==4.7.0.dev0) (2020.10.15)\n",
      "Requirement already satisfied: tokenizers<0.11,>=0.10.1 in c:\\users\\nammr\\anaconda3\\lib\\site-packages (from transformers==4.7.0.dev0) (0.10.3)\n",
      "Requirement already satisfied: filelock in c:\\users\\nammr\\anaconda3\\lib\\site-packages (from transformers==4.7.0.dev0) (3.0.12)\n",
      "Requirement already satisfied: click in c:\\users\\nammr\\anaconda3\\lib\\site-packages (from sacremoses->transformers==4.7.0.dev0) (7.1.2)\n",
      "Requirement already satisfied: joblib in c:\\users\\nammr\\anaconda3\\lib\\site-packages (from sacremoses->transformers==4.7.0.dev0) (0.17.0)\n",
      "Requirement already satisfied: six in c:\\users\\nammr\\anaconda3\\lib\\site-packages (from sacremoses->transformers==4.7.0.dev0) (1.15.0)\n",
      "Requirement already satisfied: certifi>=2017.4.17 in c:\\users\\nammr\\anaconda3\\lib\\site-packages (from requests->transformers==4.7.0.dev0) (2020.6.20)\n",
      "Requirement already satisfied: idna<3,>=2.5 in c:\\users\\nammr\\anaconda3\\lib\\site-packages (from requests->transformers==4.7.0.dev0) (2.10)\n",
      "Requirement already satisfied: chardet<4,>=3.0.2 in c:\\users\\nammr\\anaconda3\\lib\\site-packages (from requests->transformers==4.7.0.dev0) (3.0.4)\n",
      "Requirement already satisfied: urllib3!=1.25.0,!=1.25.1,<1.26,>=1.21.1 in c:\\users\\nammr\\anaconda3\\lib\\site-packages (from requests->transformers==4.7.0.dev0) (1.25.11)\n",
      "Requirement already satisfied: pyparsing>=2.0.2 in c:\\users\\nammr\\anaconda3\\lib\\site-packages (from packaging->transformers==4.7.0.dev0) (2.4.7)\n",
      "Building wheels for collected packages: transformers\n",
      "  Building wheel for transformers (PEP 517): started\n",
      "  Building wheel for transformers (PEP 517): finished with status 'done'\n",
      "  Created wheel for transformers: filename=transformers-4.7.0.dev0-py3-none-any.whl size=2309053 sha256=aac5c87cdd51fa36fb8bd54a2ada11025bd6eb688e44f0c21103d602f8c6f5c4\n",
      "  Stored in directory: C:\\Users\\nammr\\AppData\\Local\\Temp\\pip-ephem-wheel-cache-mhhyaj7g\\wheels\\a1\\29\\0f\\1a2a8583bb1de992a910d0f27917654937da378070053ada89\n",
      "Successfully built transformers\n",
      "Installing collected packages: transformers\n",
      "  Attempting uninstall: transformers\n",
      "    Found existing installation: transformers 4.7.0.dev0\n",
      "    Uninstalling transformers-4.7.0.dev0:\n",
      "      Successfully uninstalled transformers-4.7.0.dev0\n",
      "Successfully installed transformers-4.7.0.dev0\n",
      "Requirement already satisfied: datasets>=1.1.3 in c:\\users\\nammr\\anaconda3\\lib\\site-packages (from -r ./examples/pytorch/language-modeling/requirements.txt (line 1)) (1.6.2)\n",
      "Requirement already satisfied: sentencepiece!=0.1.92 in c:\\users\\nammr\\anaconda3\\lib\\site-packages (from -r ./examples/pytorch/language-modeling/requirements.txt (line 2)) (0.1.95)\n",
      "Requirement already satisfied: protobuf in c:\\users\\nammr\\anaconda3\\lib\\site-packages (from -r ./examples/pytorch/language-modeling/requirements.txt (line 3)) (3.15.6)\n",
      "Requirement already satisfied: multiprocess in c:\\users\\nammr\\anaconda3\\lib\\site-packages (from datasets>=1.1.3->-r ./examples/pytorch/language-modeling/requirements.txt (line 1)) (0.70.11.1)\n",
      "Requirement already satisfied: packaging in c:\\users\\nammr\\anaconda3\\lib\\site-packages (from datasets>=1.1.3->-r ./examples/pytorch/language-modeling/requirements.txt (line 1)) (20.4)\n",
      "Requirement already satisfied: pandas in c:\\users\\nammr\\anaconda3\\lib\\site-packages (from datasets>=1.1.3->-r ./examples/pytorch/language-modeling/requirements.txt (line 1)) (1.1.3)\n",
      "Requirement already satisfied: huggingface-hub<0.1.0 in c:\\users\\nammr\\anaconda3\\lib\\site-packages (from datasets>=1.1.3->-r ./examples/pytorch/language-modeling/requirements.txt (line 1)) (0.0.8)\n",
      "Requirement already satisfied: fsspec in c:\\users\\nammr\\anaconda3\\lib\\site-packages (from datasets>=1.1.3->-r ./examples/pytorch/language-modeling/requirements.txt (line 1)) (0.8.3)\n",
      "Requirement already satisfied: numpy>=1.17 in c:\\users\\nammr\\anaconda3\\lib\\site-packages (from datasets>=1.1.3->-r ./examples/pytorch/language-modeling/requirements.txt (line 1)) (1.19.2)\n",
      "Requirement already satisfied: pyarrow>=1.0.0<4.0.0 in c:\\users\\nammr\\anaconda3\\lib\\site-packages (from datasets>=1.1.3->-r ./examples/pytorch/language-modeling/requirements.txt (line 1)) (4.0.0)\n",
      "Requirement already satisfied: dill in c:\\users\\nammr\\anaconda3\\lib\\site-packages (from datasets>=1.1.3->-r ./examples/pytorch/language-modeling/requirements.txt (line 1)) (0.3.3)\n",
      "Requirement already satisfied: requests>=2.19.0 in c:\\users\\nammr\\anaconda3\\lib\\site-packages (from datasets>=1.1.3->-r ./examples/pytorch/language-modeling/requirements.txt (line 1)) (2.24.0)\n",
      "Requirement already satisfied: tqdm<4.50.0,>=4.27 in c:\\users\\nammr\\anaconda3\\lib\\site-packages (from datasets>=1.1.3->-r ./examples/pytorch/language-modeling/requirements.txt (line 1)) (4.49.0)\n",
      "Requirement already satisfied: xxhash in c:\\users\\nammr\\anaconda3\\lib\\site-packages (from datasets>=1.1.3->-r ./examples/pytorch/language-modeling/requirements.txt (line 1)) (2.0.2)\n",
      "Requirement already satisfied: six>=1.9 in c:\\users\\nammr\\anaconda3\\lib\\site-packages (from protobuf->-r ./examples/pytorch/language-modeling/requirements.txt (line 3)) (1.15.0)\n",
      "Requirement already satisfied: pyparsing>=2.0.2 in c:\\users\\nammr\\anaconda3\\lib\\site-packages (from packaging->datasets>=1.1.3->-r ./examples/pytorch/language-modeling/requirements.txt (line 1)) (2.4.7)\n",
      "Requirement already satisfied: python-dateutil>=2.7.3 in c:\\users\\nammr\\anaconda3\\lib\\site-packages (from pandas->datasets>=1.1.3->-r ./examples/pytorch/language-modeling/requirements.txt (line 1)) (2.8.1)\n",
      "Requirement already satisfied: pytz>=2017.2 in c:\\users\\nammr\\anaconda3\\lib\\site-packages (from pandas->datasets>=1.1.3->-r ./examples/pytorch/language-modeling/requirements.txt (line 1)) (2020.1)\n",
      "Requirement already satisfied: filelock in c:\\users\\nammr\\anaconda3\\lib\\site-packages (from huggingface-hub<0.1.0->datasets>=1.1.3->-r ./examples/pytorch/language-modeling/requirements.txt (line 1)) (3.0.12)\n",
      "Requirement already satisfied: chardet<4,>=3.0.2 in c:\\users\\nammr\\anaconda3\\lib\\site-packages (from requests>=2.19.0->datasets>=1.1.3->-r ./examples/pytorch/language-modeling/requirements.txt (line 1)) (3.0.4)\n",
      "Requirement already satisfied: urllib3!=1.25.0,!=1.25.1,<1.26,>=1.21.1 in c:\\users\\nammr\\anaconda3\\lib\\site-packages (from requests>=2.19.0->datasets>=1.1.3->-r ./examples/pytorch/language-modeling/requirements.txt (line 1)) (1.25.11)\n",
      "Requirement already satisfied: certifi>=2017.4.17 in c:\\users\\nammr\\anaconda3\\lib\\site-packages (from requests>=2.19.0->datasets>=1.1.3->-r ./examples/pytorch/language-modeling/requirements.txt (line 1)) (2020.6.20)\n",
      "Requirement already satisfied: idna<3,>=2.5 in c:\\users\\nammr\\anaconda3\\lib\\site-packages (from requests>=2.19.0->datasets>=1.1.3->-r ./examples/pytorch/language-modeling/requirements.txt (line 1)) (2.10)\n"
     ]
    }
   ],
   "source": [
    "%cd transformers\n",
    "!pip install .\n",
    "!pip install -r ./examples/pytorch/language-modeling/requirements.txt"
   ]
  },
  {
   "cell_type": "code",
   "execution_count": 8,
   "metadata": {},
   "outputs": [
    {
     "output_type": "stream",
     "name": "stdout",
     "text": [
      "^C\n"
     ]
    }
   ],
   "source": [
    "# Train gpt-2 model\n",
    "# 컴퓨터 터질 거 같음\n",
    "\n",
    "!python ./examples/pytorch/language-modeling/run_clm.py \\\n",
    "    --model_name_or_path gpt2 \\\n",
    "    --dataset_name wikitext \\\n",
    "    --dataset_config_name wikitext-2-raw-v1 \\\n",
    "    --do_train \\\n",
    "    --do_eval \\\n",
    "    --output_dir /tmp/test-clm"
   ]
  },
  {
   "cell_type": "code",
   "execution_count": 2,
   "metadata": {},
   "outputs": [
    {
     "output_type": "stream",
     "name": "stderr",
     "text": [
      "Traceback (most recent call last):\n  File \"./examples/pytorch/language-modeling/run_clm_no_trainer.py\", line 38, in <module>\n    from accelerate import Accelerator\nModuleNotFoundError: No module named 'accelerate'\n"
     ]
    }
   ],
   "source": [
    "!python ./examples/pytorch/language-modeling/run_clm_no_trainer.py \\\n",
    "    --dataset_name wikitext \\\n",
    "    --dataset_config_name wikitext-2-raw-v1 \\\n",
    "    --model_name_or_path gpt2 \\\n",
    "    --output_dir /tmp/test-clm"
   ]
  },
  {
   "cell_type": "code",
   "execution_count": null,
   "metadata": {},
   "outputs": [],
   "source": []
  }
 ]
}