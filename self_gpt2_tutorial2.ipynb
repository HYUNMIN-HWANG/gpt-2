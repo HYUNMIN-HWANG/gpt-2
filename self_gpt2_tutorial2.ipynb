{
 "metadata": {
  "language_info": {
   "codemirror_mode": {
    "name": "ipython",
    "version": 3
   },
   "file_extension": ".py",
   "mimetype": "text/x-python",
   "name": "python",
   "nbconvert_exporter": "python",
   "pygments_lexer": "ipython3",
   "version": "3.6.5"
  },
  "orig_nbformat": 2,
  "kernelspec": {
   "name": "python365jvsc74a57bd0138980a8145a8f97f9f90b29e8fd3d868ad7fc6a3edb1c1f48540839f6582b92",
   "display_name": "Python 3.6.5 64-bit ('gpt--2': conda)"
  },
  "metadata": {
   "interpreter": {
    "hash": "138980a8145a8f97f9f90b29e8fd3d868ad7fc6a3edb1c1f48540839f6582b92"
   }
  }
 },
 "nbformat": 4,
 "nbformat_minor": 2,
 "cells": [
  {
   "source": [
    "+ 튜토리얼 영상 : Open AI GPT-2 Tutorial | AI Text Generator    \n",
    "https://www.youtube.com/watch?v=XsHmtuXucqY"
   ],
   "cell_type": "markdown",
   "metadata": {}
  },
  {
   "cell_type": "code",
   "execution_count": null,
   "metadata": {},
   "outputs": [],
   "source": [
    "git clone https://github.com/openai/gpt-2.git"
   ]
  },
  {
   "cell_type": "code",
   "execution_count": null,
   "metadata": {},
   "outputs": [],
   "source": [
    "클론한 폴더로 이동"
   ]
  },
  {
   "cell_type": "code",
   "execution_count": null,
   "metadata": {},
   "outputs": [],
   "source": [
    "!pip install -r requirements.txt"
   ]
  },
  {
   "cell_type": "code",
   "execution_count": null,
   "metadata": {},
   "outputs": [],
   "source": [
    "!python download_model.py 124M"
   ]
  },
  {
   "cell_type": "code",
   "execution_count": null,
   "metadata": {},
   "outputs": [],
   "source": [
    "!python src/interactive_conditional_samples.py --top_k 40"
   ]
  },
  {
   "source": [
    "# 결과 예시"
   ],
   "cell_type": "markdown",
   "metadata": {}
  },
  {
   "source": [
    "Model prompt >>> I want to be a doctor    \n",
    "======================================== SAMPLE 1 ========================================    \n",
    ", not a nurse\", says Maria, \"and I think we're living, we're growing, a whole new world.\n",
    "\n",
    "We see the same stories in children growing up through the school or a whole new world. My kids grew up in a more secular world where everyone understood what science was. Now, they know they need doctors, that they want to treat cancer and that they can treat people that aren't suffering and aren't hurting each other. It's a totally different world.\"\n",
    "\n",
    "There might be some time before this gets any better, but many doctors and nurses across the country are now convinced that it's time for the end of government mandates. Last month, the Federal Government approved a bill that bans any government contract doctors and nurses from providing insurance or services related to the public health. The only thing they could do, however, is change our health care system so that it will allow public health professionals to serve patients without risking their medical lives for profit.\n",
    "\n",
    "This is one of those \"prudential policies\" that should not be allowed at all, but it has to be. I'm not saying government should end mandates, or at least, not allow their execution. That's part of the point: They should be right.\n",
    "\n",
    "As long as it's a fair and balanced approach that takes care of one's own patients and not the needs of those around them, doctors and nurses would no doubt continue to work. It's true, though: We might never be 100% in sync with the rest of the world.\n",
    "\n",
    "But for the people of Ontario, that means giving up our collective health care, our lives, our children.<|endoftext|>The last 10 years have shown the importance of data integrity, and the ability of large companies to reduce or eliminate unnecessary costs and vulnerabilities. But there are still some places where it is possible to protect yourself and others from identity theft and fraud, but only on a small scale. One of them is the Internet.\n",
    "\n",
    "\n",
    "At its core, the Web is an immutable record of people, places and events. Users are allowed to share their data with Internet companies on a variety of domains and platforms, making sharing secure, efficient or even free-for-all in a way that makes no sense to their privacy or trust. This makes it much easier for law enforcement investigators and cybersecurity officers to track and steal data, especially from those without warrants.\n",
    "\n",
    "\n",
    "When we talk about Internet companies, we mean large companies with a large user base. But at its core, the Web\n"
   ],
   "cell_type": "markdown",
   "metadata": {}
  },
  {
   "source": [
    "1558M로 했을 때 결과    \n",
    "\n",
    "Model prompt >>> I want to be a doctor     \n",
    "======================================== SAMPLE 1 ========================================     \n",
    ", not in some small office in the middle of nowhere. It's not so much that medical schools are out of the business of preparing doctors…it's just a matter of where they're going to be trained. The medical profession needs to see a big decrease in the number of residency programs, and I do think that we will. You see it all the time–the new school that opens, it's the biggest for a number of years, but it never does what it used to and then it closes. And then in a year or two, there's another program, the same number of doctors come in, but it's a little bit small (laughter). The best of them don't stay there, and the ones that stay stay very hard to find.\n",
    "\n",
    "The best of them don't stay there.\n",
    "\n",
    "So what could it mean to end the need for residency programs? And how do you do it? Are you talking about shutting down hospitals and institutes of medicine? Or do you consider other kinds of changes to the medical profession that would include things like increasing the number of doctors and nurses but also the number of residents?\n",
    "\n",
    "I think one of the things that a lot of people don't want to think about, the fact that as much as we all believe that physicians should always work in one location, that's not quite true. I think this is an issue we're in the midst of discussing. It has to do with a whole variety of things. One big thing is, in many parts of the country, for years, the supply of nurses has been decreasing substantially.\n",
    "\n",
    "I spent a lot of time last year in rural areas, and I was impressed by how many new doctors were coming from nursing schools. There were a lot of them in rural areas, and they weren't only working in nursing homes, but they could find full-time practice in rural areas. In fact, one of the things the Secretary of Labor came to me and said was that they were being trained to provide primary-care services.\n",
    "\n",
    "If you look at the growth in primary care in America over the last 50 years, primary care was growing very rapidly. But about 10 years ago we actually started to see a decline in primary care for some reasons that are still being debated–some of the same ones that are still debated today.\n",
    "\n",
    "We also went to the states and tried to figure out why we had a shrinking number of primary care physicians. One of the things we saw is that there was a lot of\n",
    "\n"
   ],
   "cell_type": "markdown",
   "metadata": {}
  },
  {
   "source": [
    "---"
   ],
   "cell_type": "markdown",
   "metadata": {}
  },
  {
   "source": [
    "Model prompt >>> Casual Jacket      \n",
    "======================================== SAMPLE 1 ========================================        \n",
    "/Shirt\n",
    "\n",
    "2 pairs of shorts\n",
    "\n",
    "3 pairs of boots\n",
    "\n",
    "(See Also)\n",
    "\n",
    "(See Also)\n",
    "\n",
    "$25\n",
    "\n",
    "3 pairs of jeans\n",
    "\n",
    "4 pairs of gloves\n",
    "\n",
    "4 sets of mittens\n",
    "\n",
    "(See Also)\n",
    "\n",
    "($30 or $30 at Whole Foods)<|endoftext|>Rudy Giuliani, who was a longtime supporter of President Donald Trump, has been asked by a Republican lawmaker to appear before a congressional ethics committee when he is accused of lying under oath by former campaign CEO Paul Singer to his foundation.\n",
    "\n",
    "The GOP lawmaker, Ronna Romney McDaniel of Connecticut, spoke with Rep. Ruben Gallego of Arizona on Nov. 30.\n",
    "\n",
    "\"I'm very much concerned about the Trump campaign,\" she said.\n",
    "\n",
    "ADVERTISEMENT\n",
    "\n",
    "The GOP lawmaker then pressed Giuliani to explain what happened after Trump's election victory, saying the former mayor spent \"almost $20 million\" on speaking fees — a figure well below Trump's own $23 million.\n",
    "\n",
    "\"Did you, Rudy Giuliani, ask Paul Singer to donate $20 million to the Trump campaign? Mr. Singer, you know, you don't ask people to support an independent-candidate. You're supposed to be a Republican Party official, but, well, who is that Republican Establishment candidate that gave $20 million to the Trump campaign, and in that context we find the congressman and his family to be a significant figure in the donation to Donald Trump,\" Gallego said.\n",
    "\n",
    "\"I have asked Senator Grassley to provide me with a statement that will show to the committee a fact about you that has been made public by the President Donald Trump's campaign — and then I'm going to do my best to provide you with a statement that will, I think, make it much clearer that your campaign has committed to doing nothing to stop the money coming in.\"\n",
    "\n",
    "The money, which has yet to file its returns with the Treasury Department, has not been disclosed. Republican lawmakers have been urging Democrats in the House of Representatives to ask the Justice Department to investigate allegations of campaign-related tax violation, according to Politico.\n",
    "\n",
    "Trump has said he would \"absolutely not\" reimburse any \"political action committee\" that donated to a political party on the campaign in the past.\n",
    "\n",
    "Rep. Louie Gohmert (R-Texas), chairman of the House Finance Committee, said, \"This is absolutely outrageous and in violation of the First Amendment. To be quite clear, Trump has not"
   ],
   "cell_type": "markdown",
   "metadata": {}
  },
  {
   "source": [
    "---"
   ],
   "cell_type": "markdown",
   "metadata": {}
  },
  {
   "source": [
    "Model prompt >>> recipe\n",
    "\n",
    "======================================== SAMPLE 1 ========================================    \n",
    " is not so common.\n",
    "\n",
    "\"I know that there are people with very sensitive skin that have these problems and if you are looking for a new skin care product I would suggest giving your dermatologist a call now,\" explains Dr. Eileen Echols-Gustenbauer, M.D., of Oregon-based Skin Repair, who specializes in dermatology for the U.S. Centers for Disease Control and Prevention.\n",
    "\n",
    "It's called DWRAP-100, a product that uses a lot less ingredients than a regular skin cream. But Echols-Gustenbauer, who is also director of the Oregon-based Center for Disease Control and Prevention and head of the Skin Care Institute at Oregon's University of Oregon Medical School, thinks the difference in the DWRAP-100 is likely because it contains a more concentrated formulation.\n",
    "\n",
    "It takes about 4 weeks to make a new skin care product, so you're pretty much ready to take it out of the drawer. DWRAP-100 comes in four sizes and six colors: dark blue, grey, purple and violet, plus gray and amber. And the formula is the same for all Skin Care products except DWRAP-100 – as long as it comes in a color that's consistent with your skin. The most popular skin care formulations are listed here for the U.S. and worldwide.\n",
    "\n",
    "DWRAP-100 comes with a cream, which can be rubbed directly into your face. But it's not as creamy. This does make it more suitable for those with darker areas such as the scalp, which is where your hair is going to be. Plus, you get the cream-like consistency of a regular skin cream.\n",
    "\n",
    "There are a few other things to make sure you're getting the results you expect:\n",
    "\n",
    "A high concentration of ingredients, which means you're not getting a bad pimple\n",
    "\n",
    "The color is much smoother in your face and even a little more concentrated\n",
    "\n",
    "A high concentration of ingredients, which means your skin is more hydrated\n",
    "\n",
    "That being said, DWRAP-100 is a lot more powerful, so you can make your own skin care product at home by yourself.\n",
    "\n",
    "DWRAP-100 will be available starting today. A print-out of the order number and a link to the manufacturer's site are available below:\n",
    "\n",
    "www.skinrestoration.com<|endoftext|>The US is a very powerful and powerful organization. And it is very, very difficult to\n",
    "  "
   ],
   "cell_type": "markdown",
   "metadata": {}
  },
  {
   "source": [
    "Model prompt >>> recipe      \n",
    "======================================== SAMPLE 1 ========================================       \n",
    ".com/takes-or-takes-one-time-to-see-my-ass-and-my-shoulder-and-your-shoulder-and-your-butt-with-a-flavoured-bitch-and-you-know-where-you-get (and you know that I'm talking about \"a lady you know\").\n",
    "\n",
    "I'm not here to talk about \"me\" or even any of the other girls on The Bachelor, but I know from experience she's been pretty good at it, so if she is just saying whatever you want to say (and I'm not just talking about the girl on the show and not her friends, I'm talking about all of her friends, and I've learned a lot about that) she might just be saying an embarrassing, embarrassing, and, on the face of it, offensive thing. She might be talking to her own ass. She might have a crush on a fellow girl and want to make her \"friend\" feel a little better about it. Maybe she's just looking for somebody who is just interested in sex, and just isn't really attracted to a girl who is just looking to make her \"friend\". Maybe she's just confused as to why you're asking when she's saying \"me\" and her friends are \"my friends\" (or, if that's what they're saying, \"me\" as well). I bet if she's being serious and trying to connect \"me\" with those others, her friends might be a different story. Maybe she can do it by just being like \"This is a lady I love and you're cool and we're going to hang out\" or as \"you can't come by any of the places you haven't had a friend since college because you're not allowed to have sex in college,\" or other.\n",
    "\n",
    "If your friend is being so serious in asking this question, do you think it is okay for her to say \"me\"? I don't think \"me\" is a word that makes her \"better\" than others when it comes to dating someone who would look good on your show. As long as you're taking her seriously, take pride in her doing it and you're all the better for it. And if she's the one who is just being serious and trying to connect \"me\" to other people, and she's doing this because you really don't want to (because it makes her seem less like she wants to be an all"
   ],
   "cell_type": "markdown",
   "metadata": {}
  }
 ]
}